{
 "cells": [
  {
   "cell_type": "markdown",
   "metadata": {},
   "source": [
    "### NICO"
   ]
  },
  {
   "cell_type": "markdown",
   "metadata": {},
   "source": [
    "Implementation based on the matlab code by M. Rabbat"
   ]
  },
  {
   "cell_type": "code",
   "execution_count": 1,
   "metadata": {},
   "outputs": [],
   "source": [
    "import numpy as np\n",
    "from random import shuffle, random\n",
    "from scipy.special import comb\n",
    "from scipy.sparse import csr_matrix\n",
    "import itertools"
   ]
  },
  {
   "cell_type": "markdown",
   "metadata": {},
   "source": [
    "Initialize parameters"
   ]
  },
  {
   "cell_type": "code",
   "execution_count": 2,
   "metadata": {},
   "outputs": [],
   "source": [
    "n = 3 #number of nodes in the network\n",
    "T = 100 #number of paths\n",
    "Nm = 5 #number of nodes per path\n",
    "# np.random.seed(2)\n",
    "np.random.seed(1337)"
   ]
  },
  {
   "cell_type": "code",
   "execution_count": 3,
   "metadata": {},
   "outputs": [],
   "source": [
    "A = np.random.rand(n, n)\n",
    "A = A / A.sum(axis = 1, keepdims=True)"
   ]
  },
  {
   "cell_type": "code",
   "execution_count": 4,
   "metadata": {},
   "outputs": [],
   "source": [
    "pi = np.random.rand(n, 1)\n",
    "pi = pi / pi.sum(axis=0, keepdims=True)"
   ]
  },
  {
   "cell_type": "markdown",
   "metadata": {},
   "source": [
    "Generate some paths according to this Markov model"
   ]
  },
  {
   "cell_type": "code",
   "execution_count": 5,
   "metadata": {},
   "outputs": [],
   "source": [
    "X = np.zeros((T, Nm))"
   ]
  },
  {
   "cell_type": "code",
   "execution_count": 6,
   "metadata": {},
   "outputs": [],
   "source": [
    "# Generate random numbers for testing purposes. Change to random() when it is ready\n",
    "R_out = np.random.rand(T,1)\n",
    "R_in = np.random.rand(T, Nm)"
   ]
  },
  {
   "cell_type": "code",
   "execution_count": 7,
   "metadata": {},
   "outputs": [],
   "source": [
    "cumprobs = pi.cumsum(axis = 0)"
   ]
  },
  {
   "cell_type": "code",
   "execution_count": 8,
   "metadata": {},
   "outputs": [],
   "source": [
    "iterator = 0\n",
    "for walk in X:\n",
    "#     Sample the starting node from Pi\n",
    "#     larger = (cumprobs >= random()).nonzero()\n",
    "    larger = (cumprobs >= R_out[iterator][0]).nonzero()\n",
    "    walk[0] = larger[0][0]\n",
    "#     Sample remaining nodes in the path by taking a random walk\n",
    "    for i in range(1, Nm):\n",
    "        cumprobs_in = A[int(walk[i - 1]),:].cumsum(axis=0)\n",
    "#       larger = (cumprobs >= random()).nonzero()\n",
    "        larger = (cumprobs_in >= R_in[iterator][i]).nonzero()\n",
    "        walk[i] = larger[0][0]\n",
    "    iterator += 1\n",
    "X = X.astype(int)"
   ]
  },
  {
   "cell_type": "markdown",
   "metadata": {},
   "source": [
    "Shuffle observations"
   ]
  },
  {
   "cell_type": "code",
   "execution_count": 9,
   "metadata": {},
   "outputs": [],
   "source": [
    "# Y = X.copy()\n",
    "# for walk in Y:\n",
    "#     shuffle(walk)"
   ]
  },
  {
   "cell_type": "code",
   "execution_count": 10,
   "metadata": {},
   "outputs": [],
   "source": [
    "# numTrials = 50"
   ]
  },
  {
   "cell_type": "markdown",
   "metadata": {},
   "source": [
    "Utils"
   ]
  },
  {
   "cell_type": "code",
   "execution_count": 11,
   "metadata": {},
   "outputs": [],
   "source": [
    "def normalize_csr_rows(csr_mat):\n",
    "    row_sums = np.array(csr_mat.sum(axis=1))[:,0]\n",
    "    row_indices, col_indices = csr_mat.nonzero()\n",
    "    csr_mat.data /= row_sums[col_indices]"
   ]
  },
  {
   "cell_type": "code",
   "execution_count": 12,
   "metadata": {},
   "outputs": [],
   "source": [
    "def compute_likelihood(bag_of_nodes, pi_hat, A_hat):\n",
    "    n = len(bag_of_nodes)\n",
    "    \n",
    "    permutation_orders = list(itertools.permutations(list(range(n))))\n",
    "    \n",
    "    gamma = np.zeros(n)\n",
    "    Gamma = np.zeros((n,n))\n",
    "    \n",
    "    for order in permutation_orders:\n",
    "        starting_node = order[0]\n",
    "        p = pi_hat[bag_of_nodes[starting_node]]\n",
    "        \n",
    "        for i in range(1, n):\n",
    "            p = p * A_hat[bag_of_nodes[order[i - 1]], bag_of_nodes[order[i]]]\n",
    "        \n",
    "        gamma[order[0]] += p\n",
    "        \n",
    "        for i in range(1, n):\n",
    "            Gamma[order[i - 1]][order[i]] += p\n",
    "    return gamma, Gamma"
   ]
  },
  {
   "cell_type": "code",
   "execution_count": 13,
   "metadata": {},
   "outputs": [],
   "source": [
    "# def overlapped_chunks(array, chunk_size = 2, overlap_size = 1):\n",
    "#     return [tuple(array[i:i+chunk_size]) for i in range(0, len(array)-1, chunk_size-overlap_size)]"
   ]
  },
  {
   "cell_type": "markdown",
   "metadata": {},
   "source": [
    "NICO implementation"
   ]
  },
  {
   "cell_type": "code",
   "execution_count": 14,
   "metadata": {},
   "outputs": [],
   "source": [
    "# @TBD Change names. Come up with something meaningful and readable\n",
    "\n",
    "def nico(X, n):\n",
    "#     T = np.shape(X)[0]\n",
    "    \n",
    "    #number of nodes in each path\n",
    "#     size = lambda array: len(array)\n",
    "#     Nm = np.apply_along_axis(size, 1, X)\n",
    "    \n",
    "    #Init pi_hat\n",
    "    #Assume all states appear at least once in the data\n",
    "    pi_hat = 1 + 0.3 * np.random.rand(n, 1)\n",
    "    pi_hat = pi_hat / pi_hat.sum(axis = 0, keepdims = True)\n",
    "    pi_hat = [item[0] for item in pi_hat]\n",
    "    \n",
    "    # Construct A_hat as a sparse matrix\n",
    "    # First determine an upperbound on the number of non-zero entries\n",
    "    ii = []\n",
    "    jj = []\n",
    "\n",
    "    for walk in X:\n",
    "        V = np.array(list(itertools.combinations(walk, 2)))\n",
    "        ii.append(list(V[:, 0]))\n",
    "        jj.append(list(V[:, 1]))\n",
    "\n",
    "    ii = [item for sublist in ii for item in sublist]\n",
    "    jj = [item for sublist in jj for item in sublist]\n",
    "    ss = np.ones(len(ii))\n",
    "    \n",
    "    A_hat = csr_matrix((ss, (ii, jj)), shape = (n,n))\n",
    "    A_hat = (A_hat + A_hat.transpose()) / 2\n",
    "    A_hat_copy = A_hat.copy()\n",
    "    A_hat_copy.data.fill(1)\n",
    "    \n",
    "    A_hat = A_hat_copy + 0.4 * csr_matrix((np.random.random((A_hat.nnz)),A_hat.nonzero()), shape=A_hat.shape)\n",
    "    A_hat = A_hat.transpose()\n",
    "    \n",
    "    print(A_hat.todense())\n",
    "    \n",
    "    #Normalize A_hat\n",
    "    normalize_csr_rows(A_hat)\n",
    "    \n",
    "    print(A_hat.todense())\n",
    "    \n",
    "    # E-STEP\n",
    "    #Test on one permutation\n",
    "    r_alpha_gamma = []\n",
    "    r_alpha_Gamma = []\n",
    "    \n",
    "    for bag_of_nodes in X:\n",
    "        gamma, Gamma = compute_likelihood(bag_of_nodes, pi_hat, A_hat)\n",
    "        gamma_sum = sum(gamma)\n",
    "        r_alpha_gamma.append(gamma/gamma_sum)\n",
    "        r_alpha_Gamma.append(Gamma/gamma_sum)\n",
    "        \n",
    "    # M-STEP\n",
    "    #1. Sum probabilities for gamma\n",
    "    c = np.zeros(n)\n",
    "    for seq, probs in zip(X, r_alpha_gamma):\n",
    "        for node_id in range(n):\n",
    "            node_indexes = [i for i, j in enumerate(seq) if j == node_id]\n",
    "            c[node_id] += probs[node_indexes].sum()\n",
    "    \n",
    "    #2. Sum probabilities for Gamma\n",
    "    C = np.zeros((n,n))\n",
    "    for seq, probs in zip(X, r_alpha_Gamma):\n",
    "        l = len(seq)\n",
    "        for i in range(l - 1):\n",
    "            for j in range(i + 1, l):\n",
    "                C[(seq[i],seq[j])] += probs[(i,j)]\n",
    "                C[(seq[j],seq[i])] += probs[(j,i)]\n",
    "    \n",
    "    A_hat_old = A_hat.copy()\n",
    "    pi_hat_old = pi_hat.copy()\n",
    "    \n",
    "    A_hat = csr_matrix(C)\n",
    "    pi_hat = c\n",
    "    \n",
    "    print(A_hat.todense())\n",
    "    \n",
    "    #Normalize\n",
    "    pi_hat = pi_hat / pi_hat.sum(axis = 0, keepdims = True)\n",
    "#     normalize_csr_rows(A_hat)\n",
    "    row_sums = np.array(A_hat.sum(axis=1))[:,0]\n",
    "    row_indices, col_indices = A_hat.nonzero()\n",
    "    A_hat.data /= row_sums[row_indices]\n",
    "    \n",
    "    print(A_hat.todense())\n",
    "    \n",
    "    return r_alpha_gamma, r_alpha_Gamma"
   ]
  },
  {
   "cell_type": "code",
   "execution_count": 15,
   "metadata": {},
   "outputs": [
    {
     "name": "stdout",
     "output_type": "stream",
     "text": [
      "[[1.28552444 1.12278467 1.06846725]\n",
      " [1.12056129 1.19747887 1.25098496]\n",
      " [1.30978287 1.25223511 1.0447297 ]]\n",
      "[[0.36974608 0.32293842 0.3073155 ]\n",
      " [0.31396845 0.33551988 0.35051167]\n",
      " [0.36314791 0.34719232 0.28965977]]\n",
      "[[23.66226593 32.49799686 32.56290002]\n",
      " [29.84117551 38.84867723 69.8117648 ]\n",
      " [34.77717776 65.85549062 72.14255127]]\n",
      "[[0.26669773 0.36628537 0.3670169 ]\n",
      " [0.21545723 0.28049259 0.50405018]\n",
      " [0.20128568 0.38116282 0.4175515 ]]\n"
     ]
    }
   ],
   "source": [
    "g, G = nico(X, n)"
   ]
  },
  {
   "cell_type": "code",
   "execution_count": 16,
   "metadata": {},
   "outputs": [
    {
     "data": {
      "text/plain": [
       "array([[0.        , 0.19079132, 0.19079132, 0.21675629, 0.19079132],\n",
       "       [0.19457599, 0.        , 0.20904726, 0.19457599, 0.20904726],\n",
       "       [0.19457599, 0.20904726, 0.        , 0.19457599, 0.20904726],\n",
       "       [0.21675629, 0.19079132, 0.19079132, 0.        , 0.19079132],\n",
       "       [0.19457599, 0.20904726, 0.20904726, 0.19457599, 0.        ]])"
      ]
     },
     "execution_count": 16,
     "metadata": {},
     "output_type": "execute_result"
    }
   ],
   "source": [
    "G[0]"
   ]
  },
  {
   "cell_type": "code",
   "execution_count": 17,
   "metadata": {},
   "outputs": [
    {
     "data": {
      "text/plain": [
       "array([0.19951574, 0.20032284, 0.20032284, 0.19951574, 0.20032284])"
      ]
     },
     "execution_count": 17,
     "metadata": {},
     "output_type": "execute_result"
    }
   ],
   "source": [
    "g[0]"
   ]
  },
  {
   "cell_type": "code",
   "execution_count": null,
   "metadata": {},
   "outputs": [],
   "source": []
  }
 ],
 "metadata": {
  "kernelspec": {
   "display_name": "Python 3",
   "language": "python",
   "name": "python3"
  },
  "language_info": {
   "codemirror_mode": {
    "name": "ipython",
    "version": 3
   },
   "file_extension": ".py",
   "mimetype": "text/x-python",
   "name": "python",
   "nbconvert_exporter": "python",
   "pygments_lexer": "ipython3",
   "version": "3.6.4"
  }
 },
 "nbformat": 4,
 "nbformat_minor": 2
}
