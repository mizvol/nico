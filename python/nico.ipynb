{
 "cells": [
  {
   "cell_type": "markdown",
   "metadata": {},
   "source": [
    "### NICO"
   ]
  },
  {
   "cell_type": "markdown",
   "metadata": {},
   "source": [
    "Implementation based on the matlab code by M. Rabbat"
   ]
  },
  {
   "cell_type": "code",
   "execution_count": 1,
   "metadata": {},
   "outputs": [],
   "source": [
    "import numpy as np\n",
    "from random import shuffle, random\n",
    "from scipy.special import comb\n",
    "from scipy.sparse import csr_matrix\n",
    "import itertools"
   ]
  },
  {
   "cell_type": "markdown",
   "metadata": {},
   "source": [
    "Initialize parameters"
   ]
  },
  {
   "cell_type": "code",
   "execution_count": 2,
   "metadata": {},
   "outputs": [],
   "source": [
    "n = 2 #number of nodes in the network\n",
    "T = 100 #number of paths\n",
    "Nm = 4 #number of nodes per path\n",
    "# np.random.seed(2)\n",
    "np.random.seed(1337)"
   ]
  },
  {
   "cell_type": "code",
   "execution_count": 3,
   "metadata": {},
   "outputs": [],
   "source": [
    "A = np.random.rand(n, n)\n",
    "A = A / A.sum(axis = 1, keepdims=True)"
   ]
  },
  {
   "cell_type": "code",
   "execution_count": 4,
   "metadata": {},
   "outputs": [],
   "source": [
    "pi = np.random.rand(n, 1)\n",
    "pi = pi / pi.sum(axis=0, keepdims=True)"
   ]
  },
  {
   "cell_type": "markdown",
   "metadata": {},
   "source": [
    "Generate some paths according to this Markov model"
   ]
  },
  {
   "cell_type": "code",
   "execution_count": 5,
   "metadata": {},
   "outputs": [],
   "source": [
    "X = np.zeros((T, Nm))"
   ]
  },
  {
   "cell_type": "code",
   "execution_count": 6,
   "metadata": {},
   "outputs": [],
   "source": [
    "# Generate random numbers for testing purposes. Change to random() when it is ready\n",
    "R_out = np.random.rand(T,1)\n",
    "R_in = np.random.rand(T, Nm)"
   ]
  },
  {
   "cell_type": "code",
   "execution_count": 7,
   "metadata": {},
   "outputs": [],
   "source": [
    "cumprobs = pi.cumsum(axis = 0)"
   ]
  },
  {
   "cell_type": "code",
   "execution_count": 8,
   "metadata": {},
   "outputs": [],
   "source": [
    "iterator = 0\n",
    "for walk in X:\n",
    "#     Sample the starting node from Pi\n",
    "#     larger = (cumprobs >= random()).nonzero()\n",
    "    larger = (cumprobs >= R_out[iterator][0]).nonzero()\n",
    "    walk[0] = larger[0][0]\n",
    "#     Sample remaining nodes in the path by taking a random walk\n",
    "    for i in range(1, Nm):\n",
    "        cumprobs_in = A[int(walk[i - 1]),:].cumsum(axis=0)\n",
    "#       larger = (cumprobs >= random()).nonzero()\n",
    "        larger = (cumprobs_in >= R_in[iterator][i]).nonzero()\n",
    "        walk[i] = larger[0][0]\n",
    "    iterator += 1"
   ]
  },
  {
   "cell_type": "markdown",
   "metadata": {},
   "source": [
    "Shuffle observations"
   ]
  },
  {
   "cell_type": "code",
   "execution_count": 9,
   "metadata": {},
   "outputs": [],
   "source": [
    "# Y = X.copy()\n",
    "# for walk in Y:\n",
    "#     shuffle(walk)"
   ]
  },
  {
   "cell_type": "code",
   "execution_count": 10,
   "metadata": {},
   "outputs": [],
   "source": [
    "# numTrials = 50"
   ]
  },
  {
   "cell_type": "markdown",
   "metadata": {},
   "source": [
    "Utils"
   ]
  },
  {
   "cell_type": "code",
   "execution_count": 11,
   "metadata": {},
   "outputs": [],
   "source": [
    "def normalize_csr_rows(csr_mat):\n",
    "    row_sums = np.array(csr_mat.sum(axis=1))[:,0]\n",
    "    row_indices, col_indices = csr_mat.nonzero()\n",
    "    csr_mat.data /= row_sums[col_indices]"
   ]
  },
  {
   "cell_type": "markdown",
   "metadata": {},
   "source": [
    "NICO implementation"
   ]
  },
  {
   "cell_type": "code",
   "execution_count": 12,
   "metadata": {},
   "outputs": [],
   "source": [
    "def nico(X, n):\n",
    "#     T = np.shape(X)[0]\n",
    "    \n",
    "    #number of nodes in each path\n",
    "#     size = lambda array: len(array)\n",
    "#     Nm = np.apply_along_axis(size, 1, X)\n",
    "    \n",
    "    #Init pi_hat\n",
    "    #Assume all states appear at least once in the data\n",
    "    pi_hat = 1 + 0.3 * np.random.rand(n, 1)\n",
    "    pi_hat = pi_hat / pi_hat.sum(axis = 0, keepdims = True)\n",
    "    \n",
    "    # Construct A_hat as a sparse matrix\n",
    "    # First determine an upperbound on the number of non-zero entries\n",
    "    ii = []\n",
    "    jj = []\n",
    "\n",
    "    for walk in X:\n",
    "        V = np.array(list(itertools.combinations(walk, 2)))\n",
    "        ii.append(list(V[:, 0]))\n",
    "        jj.append(list(V[:, 1]))\n",
    "\n",
    "    ii = [item for sublist in ii for item in sublist]\n",
    "    jj = [item for sublist in jj for item in sublist]\n",
    "    ss = np.ones(len(ii))\n",
    "    \n",
    "    A_hat = csr_matrix((ss, (ii, jj)), shape = (n,n))\n",
    "    A_hat = (A_hat + A_hat.transpose()) / 2\n",
    "    A_hat_copy = A_hat.copy()\n",
    "    A_hat_copy.data.fill(1)\n",
    "    \n",
    "    A_hat = A_hat_copy + 0.4 * csr_matrix((np.random.random((A_hat.nnz)),A_hat.nonzero()), shape=A_hat.shape)\n",
    "    A_hat = A_hat.transpose()\n",
    "    \n",
    "    #Normalize A_hat\n",
    "    normalize_csr_rows(A_hat)\n",
    "#     row_sums = np.array(A_hat.sum(axis=1))[:,0]\n",
    "#     row_indices, col_indices = A_hat.nonzero()\n",
    "#     A_hat.data /= row_sums[row_indices]\n",
    "    \n",
    "    return A_hat, pi_hat"
   ]
  },
  {
   "cell_type": "code",
   "execution_count": 13,
   "metadata": {},
   "outputs": [],
   "source": [
    "A_hat, pi_hat = nico(X, n)"
   ]
  },
  {
   "cell_type": "code",
   "execution_count": 14,
   "metadata": {},
   "outputs": [
    {
     "data": {
      "text/plain": [
       "array([[0.16808399, 0.17387978, 0.17518154, 0.14682224, 0.17895884,\n",
       "        0.1570736 ],\n",
       "       [0.16136484, 0.16781939, 0.17191685, 0.18090937, 0.17451246,\n",
       "        0.1434771 ],\n",
       "       [0.17132931, 0.16467022, 0.15711988, 0.17866546, 0.14455837,\n",
       "        0.18365676],\n",
       "       [0.14893897, 0.17077987, 0.15725988, 0.18613615, 0.17194182,\n",
       "        0.16494331],\n",
       "       [0.17186718, 0.15980495, 0.16509716, 0.14996267, 0.19982792,\n",
       "        0.15344011],\n",
       "       [0.1649417 , 0.15230273, 0.1652519 , 0.19920753, 0.15139216,\n",
       "        0.16690397]])"
      ]
     },
     "execution_count": 14,
     "metadata": {},
     "output_type": "execute_result"
    }
   ],
   "source": [
    "A_hat.toarray()"
   ]
  },
  {
   "cell_type": "code",
   "execution_count": 15,
   "metadata": {},
   "outputs": [
    {
     "data": {
      "text/plain": [
       "array([[0.15786837],\n",
       "       [0.17147875],\n",
       "       [0.16721507],\n",
       "       [0.17649442],\n",
       "       [0.17787994],\n",
       "       [0.14906346]])"
      ]
     },
     "execution_count": 15,
     "metadata": {},
     "output_type": "execute_result"
    }
   ],
   "source": [
    "pi_hat"
   ]
  },
  {
   "cell_type": "code",
   "execution_count": null,
   "metadata": {},
   "outputs": [],
   "source": []
  }
 ],
 "metadata": {
  "kernelspec": {
   "display_name": "Python 3",
   "language": "python",
   "name": "python3"
  },
  "language_info": {
   "codemirror_mode": {
    "name": "ipython",
    "version": 3
   },
   "file_extension": ".py",
   "mimetype": "text/x-python",
   "name": "python",
   "nbconvert_exporter": "python",
   "pygments_lexer": "ipython3",
   "version": "3.6.4"
  }
 },
 "nbformat": 4,
 "nbformat_minor": 2
}
