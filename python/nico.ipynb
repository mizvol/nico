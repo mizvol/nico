{
 "cells": [
  {
   "cell_type": "markdown",
   "metadata": {},
   "source": [
    "### NICO"
   ]
  },
  {
   "cell_type": "markdown",
   "metadata": {},
   "source": [
    "This implementation is based on the matlab code by M. Rabbat (see ./matlab/ folder of this repo).\n",
    "\n",
    "Example: inference of a network with n nodes from T observations of length Nm."
   ]
  },
  {
   "cell_type": "code",
   "execution_count": 1,
   "metadata": {},
   "outputs": [],
   "source": [
    "import numpy as np\n",
    "from random import shuffle, random\n",
    "from scipy.special import gamma as gamma_function\n",
    "from scipy.sparse import csr_matrix\n",
    "import itertools\n",
    "from math import log"
   ]
  },
  {
   "cell_type": "markdown",
   "metadata": {},
   "source": [
    "Initialize parameters"
   ]
  },
  {
   "cell_type": "code",
   "execution_count": 2,
   "metadata": {},
   "outputs": [],
   "source": [
    "n = 6 #number of nodes in the network\n",
    "T = 100 #number of paths\n",
    "Nm = 5 #number of nodes per path\n",
    "np.random.seed(1337)"
   ]
  },
  {
   "cell_type": "code",
   "execution_count": 3,
   "metadata": {},
   "outputs": [],
   "source": [
    "# initial probabilities of a Markov model\n",
    "A = np.random.rand(n, n)\n",
    "A = A / A.sum(axis = 1, keepdims=True)\n",
    "pi = np.random.rand(n, 1)\n",
    "pi = pi / pi.sum(axis=0, keepdims=True)"
   ]
  },
  {
   "cell_type": "markdown",
   "metadata": {},
   "source": [
    "Generate some paths according to this Markov model"
   ]
  },
  {
   "cell_type": "code",
   "execution_count": 4,
   "metadata": {},
   "outputs": [],
   "source": [
    "X = np.zeros((T, Nm))"
   ]
  },
  {
   "cell_type": "code",
   "execution_count": 5,
   "metadata": {},
   "outputs": [],
   "source": [
    "# Generate the order as random numbers for testing purposes.\n",
    "R_out = np.random.rand(T,1)\n",
    "R_in = np.random.rand(T, Nm)"
   ]
  },
  {
   "cell_type": "code",
   "execution_count": 6,
   "metadata": {},
   "outputs": [],
   "source": [
    "cumprobs = pi.cumsum(axis = 0)"
   ]
  },
  {
   "cell_type": "code",
   "execution_count": 7,
   "metadata": {},
   "outputs": [],
   "source": [
    "# iterator is required to preserve the order of permutations\n",
    "iterator = 0\n",
    "for walk in X:\n",
    "#     Sample the starting node from Pi\n",
    "#     larger = (cumprobs >= random()).nonzero()\n",
    "    larger = (cumprobs >= R_out[iterator][0]).nonzero()\n",
    "    walk[0] = larger[0][0]\n",
    "#     Sample remaining nodes in the path by taking a random walk\n",
    "    for i in range(1, Nm):\n",
    "        cumprobs_in = A[int(walk[i - 1]),:].cumsum(axis=0)\n",
    "#       larger = (cumprobs >= random()).nonzero()\n",
    "        larger = (cumprobs_in >= R_in[iterator][i]).nonzero()\n",
    "        walk[i] = larger[0][0]\n",
    "    iterator += 1\n",
    "X = X.astype(int)"
   ]
  },
  {
   "cell_type": "markdown",
   "metadata": {},
   "source": [
    "Shuffle observations"
   ]
  },
  {
   "cell_type": "code",
   "execution_count": 8,
   "metadata": {},
   "outputs": [],
   "source": [
    "# Y = X.copy()\n",
    "# for walk in Y:\n",
    "#     shuffle(walk)"
   ]
  },
  {
   "cell_type": "code",
   "execution_count": 9,
   "metadata": {},
   "outputs": [],
   "source": [
    "# numTrials = 50"
   ]
  },
  {
   "cell_type": "markdown",
   "metadata": {},
   "source": [
    "Utils"
   ]
  },
  {
   "cell_type": "code",
   "execution_count": 10,
   "metadata": {},
   "outputs": [],
   "source": [
    "def normalize_csr_rows(csr_mat):\n",
    "    \"\"\"\n",
    "    Normalize sparse csr_matrix by row.\n",
    "    In place.\n",
    "    \"\"\"\n",
    "    row_sums = np.array(csr_mat.sum(axis=1))[:,0]\n",
    "    row_indices, col_indices = csr_mat.nonzero()\n",
    "    csr_mat.data /= row_sums[row_indices]"
   ]
  },
  {
   "cell_type": "code",
   "execution_count": 11,
   "metadata": {},
   "outputs": [],
   "source": [
    "def normalize_csr_columns(csr_mat):\n",
    "    \"\"\"\n",
    "    Normalize sparse csr_matrix by column.\n",
    "    In place.\n",
    "    \"\"\"\n",
    "    col_sums = np.array(csr_mat.sum(axis=0))[0,:]\n",
    "    row_indices, col_indices = csr_mat.nonzero()\n",
    "    csr_mat.data /= col_sums[col_indices]"
   ]
  },
  {
   "cell_type": "code",
   "execution_count": 12,
   "metadata": {},
   "outputs": [],
   "source": [
    "def permutation_probabilities(bag_of_nodes, pi_hat, A_hat, full_probs = True):\n",
    "    \"\"\"\n",
    "    Evaluate all permutations of a path (bag_of_nodes).\n",
    "    \n",
    "    pi_hat and A_hat - initial parameters.\n",
    "    \n",
    "    full_probs - flag. \n",
    "    If True, computes and returns probability parameters for every permutation. \n",
    "    If False, computes and returns the sum.\n",
    "    \"\"\"\n",
    "    n = len(bag_of_nodes)\n",
    "    \n",
    "    permutation_orders = list(itertools.permutations(list(range(n))))\n",
    "    \n",
    "    gamma = np.zeros(n)\n",
    "    Gamma = np.zeros((n,n))\n",
    "    probability = 0\n",
    "    \n",
    "    # Compute likelihood of this link ordering\n",
    "    for order in permutation_orders:\n",
    "        starting_node = order[0]\n",
    "        p = pi_hat[bag_of_nodes[starting_node]]\n",
    "        \n",
    "        for i in range(1, n):\n",
    "            p = p * A_hat[bag_of_nodes[order[i - 1]], bag_of_nodes[order[i]]]\n",
    "        \n",
    "        # Store the results for every permutation\n",
    "        if full_probs:\n",
    "            gamma[order[0]] += p\n",
    "        \n",
    "            for i in range(1, n):\n",
    "                Gamma[order[i - 1]][order[i]] += p\n",
    "        else:\n",
    "            probability += p\n",
    "    \n",
    "    if full_probs:\n",
    "        return gamma, Gamma\n",
    "    else:\n",
    "        return probability"
   ]
  },
  {
   "cell_type": "code",
   "execution_count": 13,
   "metadata": {},
   "outputs": [],
   "source": [
    "def loglik(X, A, pi):\n",
    "    \"\"\"\n",
    "    Computes loglikelihood P(X | A, Pi).\n",
    "    \"\"\"\n",
    "    ll = 0\n",
    "    for walk in X:\n",
    "        l = len(walk)\n",
    "        p = 0\n",
    "        for i in range(l):\n",
    "            p = permutation_probabilities(walk, pi, A, full_probs=False)\n",
    "        ll += log(p) - log(gamma_function(l + 1))\n",
    "    return ll"
   ]
  },
  {
   "cell_type": "markdown",
   "metadata": {},
   "source": [
    "NICO implementation"
   ]
  },
  {
   "cell_type": "code",
   "execution_count": 14,
   "metadata": {},
   "outputs": [],
   "source": [
    "def nico(X, n):\n",
    "    \"\"\"\n",
    "    Core of NICO algorithm.\n",
    "    \n",
    "    X - Cell array of co-occurrence data.  Each cell contains one unordered list (column vector) of nodes in a path\n",
    "    n - Number of nodes in the network\n",
    "\n",
    "    Returns:\n",
    "    A_hat - Estimated transition matrix\n",
    "    pi_hat - Estimated initial state distribution\n",
    "    \"\"\"\n",
    "    #number of nodes in each path\n",
    "#     size = lambda array: len(array)\n",
    "#     Nm = np.apply_along_axis(size, 1, X)\n",
    "    \n",
    "    #Initialize pi_hat\n",
    "    #Assume all states appear at least once in the data\n",
    "    pi_hat = 1 + 0.3 * np.random.rand(n, 1)\n",
    "    pi_hat = pi_hat / pi_hat.sum(axis = 0, keepdims = True)\n",
    "    pi_hat = [item[0] for item in pi_hat]\n",
    "    \n",
    "    # Construct A_hat as a sparse matrix\n",
    "    # First determine an upperbound on the number of non-zero entries\n",
    "    ii = []\n",
    "    jj = []\n",
    "\n",
    "    for walk in X:\n",
    "        V = np.array(list(itertools.combinations(walk, 2)))\n",
    "        ii.append(list(V[:, 0]))\n",
    "        jj.append(list(V[:, 1]))\n",
    "\n",
    "    ii = [item for sublist in ii for item in sublist]\n",
    "    jj = [item for sublist in jj for item in sublist]\n",
    "    ss = np.ones(len(ii))\n",
    "    \n",
    "    A_hat = csr_matrix((ss, (ii, jj)), shape = (n,n))\n",
    "    A_hat = (A_hat + A_hat.transpose()) / 2\n",
    "    A_hat_copy = A_hat.copy()\n",
    "    A_hat_copy.data.fill(1)\n",
    "    \n",
    "    A_hat = A_hat_copy + 0.4 * csr_matrix((np.random.random((A_hat.nnz)),A_hat.nonzero()), shape=A_hat.shape)\n",
    "    \n",
    "    #Normalize A_hat\n",
    "    normalize_csr_columns(A_hat)\n",
    "    A_hat = A_hat.transpose()\n",
    "    \n",
    "    # EM algorithm\n",
    "    tol = 0.01\n",
    "    kmax = 100\n",
    "    for k in range(kmax):\n",
    "        # E-STEP\n",
    "        #Test on one permutation\n",
    "        r_alpha_gamma = []\n",
    "        r_alpha_Gamma = []\n",
    "\n",
    "        for bag_of_nodes in X:\n",
    "            gamma, Gamma = permutation_probabilities(bag_of_nodes, pi_hat, A_hat)\n",
    "            gamma_sum = sum(gamma)\n",
    "            r_alpha_gamma.append(gamma/gamma_sum)\n",
    "            r_alpha_Gamma.append(Gamma/gamma_sum)\n",
    "\n",
    "        # M-STEP\n",
    "        #1. Sum probabilities for gamma\n",
    "        c = np.zeros(n)\n",
    "        for seq, probs in zip(X, r_alpha_gamma):\n",
    "            for node_id in range(n):\n",
    "                node_indexes = [i for i, j in enumerate(seq) if j == node_id]\n",
    "                c[node_id] += probs[node_indexes].sum()\n",
    "\n",
    "        #2. Sum probabilities for Gamma\n",
    "        C = np.zeros((n,n))\n",
    "        for seq, probs in zip(X, r_alpha_Gamma):\n",
    "            l = len(seq)\n",
    "            for i in range(l - 1):\n",
    "                for j in range(i + 1, l):\n",
    "                    C[(seq[i],seq[j])] += probs[(i,j)]\n",
    "                    C[(seq[j],seq[i])] += probs[(j,i)]\n",
    "\n",
    "        A_hat_old = A_hat.copy()\n",
    "        pi_hat_old = pi_hat.copy()\n",
    "\n",
    "        A_hat = csr_matrix(C)\n",
    "        pi_hat = c\n",
    "\n",
    "        #Normalize\n",
    "        pi_hat = pi_hat / pi_hat.sum(axis = 0, keepdims = True)\n",
    "        normalize_csr_rows(A_hat)\n",
    "\n",
    "        # Compute change in Q\n",
    "        Q = 0\n",
    "        Q_old = 0\n",
    "        for seq, probs in zip(X, r_alpha_gamma):\n",
    "            l = len(seq)\n",
    "            for node_id in range(l):\n",
    "                Q += probs[node_id] * log(pi_hat[seq[node_id]])\n",
    "                Q_old += probs[node_id] * log(pi_hat_old[seq[node_id]])\n",
    "\n",
    "        for seq, probs in zip(X, r_alpha_Gamma):\n",
    "            l = len(seq)\n",
    "            for i in range(l - 1):\n",
    "                for j in range(i + 1, l):\n",
    "                    Q += probs[(i,j)] * log(A_hat[(seq[i], seq[j])] + np.finfo(float).eps)\n",
    "                    Q += probs[(j,i)] * log(A_hat[(seq[j], seq[i])] + np.finfo(float).eps)\n",
    "\n",
    "                    Q_old += probs[(i,j)] * log(A_hat_old[(seq[i], seq[j])] + np.finfo(float).eps)\n",
    "                    Q_old += probs[(j,i)] * log(A_hat_old[(seq[j], seq[i])] + np.finfo(float).eps)\n",
    "\n",
    "        delta = Q - Q_old\n",
    "\n",
    "        # Check stopping criterion\n",
    "        sc = delta / tol\n",
    "        \n",
    "        print(\"Iter: {0} || Delta: {1:.2f} || Q: {2:.2f}\".format(k + 1, delta, Q))\n",
    "        \n",
    "        if k == kmax - 1:\n",
    "            print(\"Number of EM iterations exceeded the limit.\")\n",
    "        \n",
    "        if sc < 1:\n",
    "            print(\"Terminated successfully after {0} iterations.\".format(k + 1))\n",
    "            break\n",
    "    \n",
    "    return pi_hat, A_hat"
   ]
  },
  {
   "cell_type": "code",
   "execution_count": 15,
   "metadata": {},
   "outputs": [],
   "source": [
    "# %%time\n",
    "# pi_hat, A_hat = nico(X, n)"
   ]
  },
  {
   "cell_type": "markdown",
   "metadata": {},
   "source": [
    "NICO trials"
   ]
  },
  {
   "cell_type": "code",
   "execution_count": 16,
   "metadata": {},
   "outputs": [
    {
     "name": "stdout",
     "output_type": "stream",
     "text": [
      "Trial 1:\n",
      "Iter: 1 || Delta: 22.19 || Q: -875.58\n",
      "Iter: 2 || Delta: 2.42 || Q: -866.84\n",
      "Iter: 3 || Delta: 0.87 || Q: -859.51\n",
      "Iter: 4 || Delta: 0.33 || Q: -854.42\n",
      "Iter: 5 || Delta: 0.14 || Q: -851.06\n",
      "Iter: 6 || Delta: 0.07 || Q: -848.79\n",
      "Iter: 7 || Delta: 0.05 || Q: -847.17\n",
      "Iter: 8 || Delta: 0.04 || Q: -845.92\n",
      "Iter: 9 || Delta: 0.04 || Q: -844.85\n",
      "Iter: 10 || Delta: 0.04 || Q: -843.87\n",
      "Iter: 11 || Delta: 0.04 || Q: -842.91\n",
      "Iter: 12 || Delta: 0.04 || Q: -841.92\n",
      "Iter: 13 || Delta: 0.04 || Q: -840.86\n",
      "Iter: 14 || Delta: 0.05 || Q: -839.71\n",
      "Iter: 15 || Delta: 0.05 || Q: -838.46\n",
      "Iter: 16 || Delta: 0.06 || Q: -837.07\n",
      "Iter: 17 || Delta: 0.06 || Q: -835.56\n",
      "Iter: 18 || Delta: 0.06 || Q: -833.90\n",
      "Iter: 19 || Delta: 0.07 || Q: -832.09\n",
      "Iter: 20 || Delta: 0.07 || Q: -830.13\n",
      "Iter: 21 || Delta: 0.07 || Q: -828.04\n",
      "Iter: 22 || Delta: 0.08 || Q: -825.82\n",
      "Iter: 23 || Delta: 0.08 || Q: -823.49\n",
      "Iter: 24 || Delta: 0.08 || Q: -821.06\n",
      "Iter: 25 || Delta: 0.08 || Q: -818.56\n",
      "Iter: 26 || Delta: 0.08 || Q: -816.00\n",
      "Iter: 27 || Delta: 0.07 || Q: -813.41\n",
      "Iter: 28 || Delta: 0.07 || Q: -810.80\n",
      "Iter: 29 || Delta: 0.07 || Q: -808.19\n",
      "Iter: 30 || Delta: 0.07 || Q: -805.59\n",
      "Iter: 31 || Delta: 0.07 || Q: -803.01\n",
      "Iter: 32 || Delta: 0.06 || Q: -800.46\n",
      "Iter: 33 || Delta: 0.06 || Q: -797.93\n",
      "Iter: 34 || Delta: 0.06 || Q: -795.44\n",
      "Iter: 35 || Delta: 0.06 || Q: -792.97\n",
      "Iter: 36 || Delta: 0.06 || Q: -790.55\n",
      "Iter: 37 || Delta: 0.06 || Q: -788.15\n",
      "Iter: 38 || Delta: 0.06 || Q: -785.78\n",
      "Iter: 39 || Delta: 0.06 || Q: -783.45\n",
      "Iter: 40 || Delta: 0.05 || Q: -781.14\n",
      "Iter: 41 || Delta: 0.05 || Q: -778.86\n",
      "Iter: 42 || Delta: 0.05 || Q: -776.61\n",
      "Iter: 43 || Delta: 0.05 || Q: -774.38\n",
      "Iter: 44 || Delta: 0.05 || Q: -772.18\n",
      "Iter: 45 || Delta: 0.05 || Q: -770.01\n",
      "Iter: 46 || Delta: 0.05 || Q: -767.86\n",
      "Iter: 47 || Delta: 0.05 || Q: -765.74\n",
      "Iter: 48 || Delta: 0.05 || Q: -763.66\n",
      "Iter: 49 || Delta: 0.05 || Q: -761.60\n",
      "Iter: 50 || Delta: 0.05 || Q: -759.59\n",
      "Iter: 51 || Delta: 0.05 || Q: -757.61\n",
      "Iter: 52 || Delta: 0.05 || Q: -755.68\n",
      "Iter: 53 || Delta: 0.04 || Q: -753.80\n",
      "Iter: 54 || Delta: 0.04 || Q: -751.97\n",
      "Iter: 55 || Delta: 0.04 || Q: -750.19\n",
      "Iter: 56 || Delta: 0.04 || Q: -748.48\n",
      "Iter: 57 || Delta: 0.04 || Q: -746.83\n",
      "Iter: 58 || Delta: 0.04 || Q: -745.24\n",
      "Iter: 59 || Delta: 0.04 || Q: -743.72\n",
      "Iter: 60 || Delta: 0.03 || Q: -742.26\n",
      "Iter: 61 || Delta: 0.03 || Q: -740.86\n",
      "Iter: 62 || Delta: 0.03 || Q: -739.53\n",
      "Iter: 63 || Delta: 0.03 || Q: -738.26\n",
      "Iter: 64 || Delta: 0.03 || Q: -737.04\n",
      "Iter: 65 || Delta: 0.03 || Q: -735.88\n",
      "Iter: 66 || Delta: 0.03 || Q: -734.77\n",
      "Iter: 67 || Delta: 0.03 || Q: -733.71\n",
      "Iter: 68 || Delta: 0.03 || Q: -732.69\n",
      "Iter: 69 || Delta: 0.03 || Q: -731.70\n",
      "Iter: 70 || Delta: 0.03 || Q: -730.74\n",
      "Iter: 71 || Delta: 0.03 || Q: -729.81\n",
      "Iter: 72 || Delta: 0.03 || Q: -728.91\n",
      "Iter: 73 || Delta: 0.03 || Q: -728.02\n",
      "Iter: 74 || Delta: 0.03 || Q: -727.16\n",
      "Iter: 75 || Delta: 0.03 || Q: -726.31\n",
      "Iter: 76 || Delta: 0.03 || Q: -725.47\n",
      "Iter: 77 || Delta: 0.03 || Q: -724.65\n",
      "Iter: 78 || Delta: 0.02 || Q: -723.84\n",
      "Iter: 79 || Delta: 0.02 || Q: -723.05\n",
      "Iter: 80 || Delta: 0.02 || Q: -722.28\n",
      "Iter: 81 || Delta: 0.02 || Q: -721.53\n",
      "Iter: 82 || Delta: 0.02 || Q: -720.80\n",
      "Iter: 83 || Delta: 0.02 || Q: -720.09\n",
      "Iter: 84 || Delta: 0.02 || Q: -719.41\n",
      "Iter: 85 || Delta: 0.02 || Q: -718.76\n",
      "Iter: 86 || Delta: 0.02 || Q: -718.14\n",
      "Iter: 87 || Delta: 0.02 || Q: -717.55\n",
      "Iter: 88 || Delta: 0.02 || Q: -716.99\n",
      "Iter: 89 || Delta: 0.02 || Q: -716.46\n",
      "Iter: 90 || Delta: 0.01 || Q: -715.95\n",
      "Iter: 91 || Delta: 0.01 || Q: -715.48\n",
      "Iter: 92 || Delta: 0.01 || Q: -715.03\n",
      "Iter: 93 || Delta: 0.01 || Q: -714.61\n",
      "Iter: 94 || Delta: 0.01 || Q: -714.21\n",
      "Iter: 95 || Delta: 0.01 || Q: -713.83\n",
      "Iter: 96 || Delta: 0.01 || Q: -713.48\n",
      "Terminated successfully after 96 iterations.\n"
     ]
    }
   ],
   "source": [
    "num_trials = 1\n",
    "ll = []\n",
    "l1 = []\n",
    "for i in range(num_trials):\n",
    "    print(\"Trial {0}:\".format(i + 1))\n",
    "    pi_hat, A_hat = nico(X, n)\n",
    "    ll.append(loglik(X, A_hat, pi_hat))\n",
    "    l1.append(np.sum(np.abs(A_hat - A)) + np.sum(np.abs(pi_hat - pi.flatten())))"
   ]
  },
  {
   "cell_type": "code",
   "execution_count": 17,
   "metadata": {},
   "outputs": [
    {
     "data": {
      "text/plain": [
       "matrix([[1.91714848e-01, 8.77779737e-02, 1.52482869e-01, 1.25149274e-01,\n",
       "         2.57121500e-02, 4.17162885e-01],\n",
       "        [4.08588962e-06, 4.46993683e-01, 1.06730072e-01, 2.48245776e-01,\n",
       "         1.33943084e-01, 6.40832981e-02],\n",
       "        [7.27040238e-06, 3.30626402e-01, 2.12214164e-01, 7.58500258e-06,\n",
       "         2.41093838e-01, 2.16050741e-01],\n",
       "        [2.80459254e-01, 1.11174024e-06, 2.91209717e-01, 9.65509698e-02,\n",
       "         3.31737861e-01, 4.10867131e-05],\n",
       "        [1.94047129e-01, 1.88653611e-07, 2.69037876e-01, 4.17263197e-07,\n",
       "         1.40183944e-01, 3.96730446e-01],\n",
       "        [1.58139396e-03, 4.18980274e-01, 1.06342811e-01, 1.04091029e-01,\n",
       "         2.47900979e-01, 1.21103512e-01]])"
      ]
     },
     "execution_count": 17,
     "metadata": {},
     "output_type": "execute_result"
    }
   ],
   "source": [
    "A_hat.todense()"
   ]
  },
  {
   "cell_type": "code",
   "execution_count": 34,
   "metadata": {},
   "outputs": [],
   "source": [
    "# Threshold\n",
    "t = A_hat.multiply(A_hat > A_hat.mean())"
   ]
  },
  {
   "cell_type": "markdown",
   "metadata": {},
   "source": [
    "Visualization"
   ]
  },
  {
   "cell_type": "code",
   "execution_count": 60,
   "metadata": {},
   "outputs": [],
   "source": [
    "import networkx as nx\n",
    "from matplotlib import pyplot as plt"
   ]
  },
  {
   "cell_type": "code",
   "execution_count": 36,
   "metadata": {},
   "outputs": [],
   "source": [
    "graph = nx.Graph(t.todense())"
   ]
  },
  {
   "cell_type": "code",
   "execution_count": 50,
   "metadata": {},
   "outputs": [],
   "source": [
    "pos = nx.spring_layout(graph)"
   ]
  },
  {
   "cell_type": "code",
   "execution_count": 69,
   "metadata": {},
   "outputs": [
    {
     "data": {
      "image/png": "[encoded data removed]",
      "text/plain": [
       "<matplotlib.figure.Figure at 0x7f2ade7e80b8>"
      ]
     },
     "metadata": {},
     "output_type": "display_data"
    }
   ],
   "source": [
    "nx.draw_networkx_nodes(graph, pos)\n",
    "nx.draw_networkx_edges(graph, pos)\n",
    "nx.draw_networkx_labels(graph, pos)\n",
    "plt.axis('off')\n",
    "plt.show()"
   ]
  },
  {
   "cell_type": "markdown",
   "metadata": {},
   "source": [
    "Export to GEXF"
   ]
  },
  {
   "cell_type": "code",
   "execution_count": 68,
   "metadata": {},
   "outputs": [],
   "source": [
    "import uuid\n",
    "nx.write_gexf(graph, './gexf/graph_' + uuid.uuid4().hex + '.gexf')"
   ]
  }
 ],
 "metadata": {
  "kernelspec": {
   "display_name": "Python 3",
   "language": "python",
   "name": "python3"
  },
  "language_info": {
   "codemirror_mode": {
    "name": "ipython",
    "version": 3
   },
   "file_extension": ".py",
   "mimetype": "text/x-python",
   "name": "python",
   "nbconvert_exporter": "python",
   "pygments_lexer": "ipython3",
   "version": "3.6.4"
  }
 },
 "nbformat": 4,
 "nbformat_minor": 2
}
